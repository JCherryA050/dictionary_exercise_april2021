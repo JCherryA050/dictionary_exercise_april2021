{
 "cells": [
  {
   "cell_type": "markdown",
   "metadata": {},
   "source": [
    "<center> <h1>Pokemon/Dictionary Warmup</h1> </center>"
   ]
  },
  {
   "cell_type": "markdown",
   "metadata": {},
   "source": [
    "![Pokeball](https://encrypted-tbn0.gstatic.com/images?q=tbn%3AANd9GcSvFguv_4hYhwny0d7KdBcFYHYCZ0j2uEBtr3aYmJHqNKecqEsi&usqp=CAU)"
   ]
  },
  {
   "cell_type": "markdown",
   "metadata": {},
   "source": [
    "Joél is currently playing the Pokemon Crystal video game. \n",
    "\n",
    "Joél takes pokemon very seriously so they have downloaded [The Complete Pokemon Dataset](https://www.kaggle.com/rounakbanik/pokemon) from Kaggle and they need some help organizing the data.\n",
    "\n",
    "Let's use our dictionary parsing skills to help Joél out!"
   ]
  },
  {
   "cell_type": "markdown",
   "metadata": {},
   "source": [
    "**In the cell below,** we import the Pokemon Dataset.\n",
    "\n",
    "*Don't worry about this code for now. Just run the cell ☺️*"
   ]
  },
  {
   "cell_type": "code",
   "execution_count": 2,
   "metadata": {
    "ExecuteTime": {
     "end_time": "2020-05-15T19:16:18.963697Z",
     "start_time": "2020-05-15T19:16:18.949590Z"
    }
   },
   "outputs": [],
   "source": [
    "import json\n",
    "import os\n",
    "\n",
    "path = os.path.join('data', 'pokemon.json')\n",
    "with open(path, 'r') as fp:\n",
    "    data = json.load(fp)"
   ]
  },
  {
   "cell_type": "markdown",
   "metadata": {},
   "source": [
    "Let's take a look at the data we just imported."
   ]
  },
  {
   "cell_type": "code",
   "execution_count": 3,
   "metadata": {},
   "outputs": [
    {
     "data": {
      "text/plain": [
       "{'abilities': \"['Torrent', 'Rain Dish']\",\n",
       " 'weakness': {'ghost': 1.0,\n",
       "  'grass': 2.0,\n",
       "  'ground': 1.0,\n",
       "  'ice': 0.5,\n",
       "  'normal': 1.0,\n",
       "  'poison': 1.0,\n",
       "  'psychic': 1.0,\n",
       "  'rock': 1.0,\n",
       "  'steel': 0.5,\n",
       "  'water': 0.5,\n",
       "  'bug': 1.0,\n",
       "  'fairy': 1.0,\n",
       "  'fight': 1.0,\n",
       "  'fire': 0.5,\n",
       "  'flying': 1.0,\n",
       "  'dark': 1.0,\n",
       "  'dragon': 1.0,\n",
       "  'electric': 2.0},\n",
       " 'stats': {'attack': 103,\n",
       "  'defense': 120,\n",
       "  'experience_growth': 1059860,\n",
       "  'height_m': 1.6,\n",
       "  'hp': 79,\n",
       "  'sp_attack': 135,\n",
       "  'sp_defense': 115,\n",
       "  'speed': 78,\n",
       "  'type1': 'water',\n",
       "  'type2': nan,\n",
       "  'weight_kg': 85.5},\n",
       " 'base': {'base_egg_steps': 5120,\n",
       "  'base_happiness': 70,\n",
       "  'base_total': 630,\n",
       "  'capture_rate': '45'},\n",
       " 'meta_data': 9}"
      ]
     },
     "execution_count": 3,
     "metadata": {},
     "output_type": "execute_result"
    }
   ],
   "source": [
    "data['Blastoise']"
   ]
  },
  {
   "cell_type": "markdown",
   "metadata": {},
   "source": [
    "## Please answer the following questions below.\n",
    "\n",
    "**What datatype is the data above?**\n",
    "\n",
    "**What else can you say about the data variable?**"
   ]
  },
  {
   "cell_type": "markdown",
   "metadata": {},
   "source": [
    "**1) dict**\n",
    "**2) Dictionary based on different pokemon. Nested dictionaries showing abilityies, weaknesses, etc.**"
   ]
  },
  {
   "cell_type": "markdown",
   "metadata": {},
   "source": [
    "## Variable Assignment & Data Types – Practice\n",
    "\n",
    "Variable assignment is important! Writing professional quality code will often times require you to be very thoughtful about how you assign your variables. You may be asked to define a variable with a specific name, or with a specific data type. In scenarios like this, if you were to give a variable the incorrect name or incorrect data type, the entire project could break!\n",
    "\n",
    "The importance of how you define variables will be seen out at the end of this notebook where you will be asked to create variables that you will then submit to your instructor.  \n",
    "\n",
    "**Let's take a look at some examples.**"
   ]
  },
  {
   "cell_type": "markdown",
   "metadata": {},
   "source": [
    "<u>The following information is true about Joél's pokemon.</u>\n",
    "\n",
    "- Joél has caught `5` pokemon\n",
    "- Joél's pokemon trainer level is `'Apprentice'`.\n",
    "- Joél's coolest pokemon is `'Haunter'`.\n",
    "- Joél's favorite pokemon is `'Kadabra'`.\n",
    "- Joél plays pokemon for 1.5 hours a day.\n",
    "\n",
    "<u>Additionally, the names of Joél's five pokemon are:</u>\n",
    "\n",
    "1. Bayleef\n",
    "2. Haunter\n",
    "3. Poliwag\n",
    "4. Pidgeotto\n",
    "5.  Kadabra\n",
    "\n",
    "### Please create the following variables given the information above:\n",
    "\n",
    "- `pokemon_count` that has a datatype of integer.\n",
    "- `trainer_level` that has a datatype of string.\n",
    "- `coolest_pokemon` that has a datatype of string.\n",
    "- `favorite_pokemon` that has a datatype of string.\n",
    "- `hours_per_day` that has a datatype of float.\n",
    "- `joels_pokemon_names` that has a datatype of list."
   ]
  },
  {
   "cell_type": "code",
   "execution_count": 4,
   "metadata": {},
   "outputs": [
    {
     "data": {
      "text/plain": [
       "'this \"is\" that'"
      ]
     },
     "execution_count": 4,
     "metadata": {},
     "output_type": "execute_result"
    }
   ],
   "source": [
    "# Your code here\n",
    "pokemon_count = 5\n",
    "trainer_level = 'Apprentice'\n",
    "coolest_pokemon = 'Haunter'\n",
    "favorite_pokemon = 'Kadabra'\n",
    "hours_per_day = 1.5\n",
    "joels_pokemon_names = ['Bayleef', 'Haunter', 'Poliwag', 'Pidgeotto', 'Kadabra']\n",
    "'this \"is\" ' + 'that'"
   ]
  },
  {
   "cell_type": "markdown",
   "metadata": {
    "ExecuteTime": {
     "end_time": "2020-11-12T21:46:06.682070Z",
     "start_time": "2020-11-12T21:46:06.678466Z"
    }
   },
   "source": [
    "The cell below tests whether or not you assigned your variables correctly!"
   ]
  },
  {
   "cell_type": "code",
   "execution_count": 5,
   "metadata": {},
   "outputs": [
    {
     "name": "stdout",
     "output_type": "stream",
     "text": [
      "✅ All tests were passed!\n"
     ]
    }
   ],
   "source": [
    "from tests import VariableAssignment\n",
    "\n",
    "test = VariableAssignment()\n",
    "\n",
    "test.run(pokemon_count, trainer_level, \n",
    "         coolest_pokemon, favorite_pokemon,\n",
    "        hours_per_day, joels_pokemon_names)"
   ]
  },
  {
   "cell_type": "markdown",
   "metadata": {},
   "source": [
    "# Looping\n",
    "\n",
    "Looping is the bread and butter of code. Code is powerful because of it's speed and is especially skilled at completing repetitive tasks. \n",
    "\n",
    "### A simple for loop\n",
    "\n",
    "Let's loop over the `joels_pokemon_names` list and print out each of the pokemon."
   ]
  },
  {
   "cell_type": "code",
   "execution_count": 6,
   "metadata": {},
   "outputs": [
    {
     "name": "stdout",
     "output_type": "stream",
     "text": [
      "Bayleef\n",
      "Haunter\n",
      "Poliwag\n",
      "Pidgeotto\n",
      "Kadabra\n"
     ]
    }
   ],
   "source": [
    "# Your code here\n",
    "for name in joels_pokemon_names:\n",
    "    print(name)"
   ]
  },
  {
   "cell_type": "code",
   "execution_count": 7,
   "metadata": {},
   "outputs": [
    {
     "name": "stdout",
     "output_type": "stream",
     "text": [
      "Bayleef\n",
      "Haunter\n",
      "Poliwag\n",
      "Pidgeotto\n",
      "Kadabra\n"
     ]
    }
   ],
   "source": [
    "# list Comp.\n",
    "[print(name) for name in joels_pokemon_names];"
   ]
  },
  {
   "cell_type": "markdown",
   "metadata": {},
   "source": [
    "### Looping over a dictionary\n",
    "\n",
    "To loop over a dictionary we will need to loop over the keys of the dictionary. \n",
    "\n",
    "<u>In the cell below,</u> \n",
    "\n",
    "- Assign the variable `data_keys` to a list containing the keys for the `data` variable."
   ]
  },
  {
   "cell_type": "code",
   "execution_count": 8,
   "metadata": {},
   "outputs": [],
   "source": [
    "# Your code here\n",
    "data_keys = []\n",
    "for keys in data:\n",
    "    data_keys.append(keys)"
   ]
  },
  {
   "cell_type": "code",
   "execution_count": 10,
   "metadata": {},
   "outputs": [],
   "source": [
    "data_keys = [keys for keys in data]"
   ]
  },
  {
   "cell_type": "markdown",
   "metadata": {},
   "source": [
    "### How many keys are in this dictionary?\n",
    "\n",
    "In the cell below, set the variable `pokemon_total` to the number of keys in the dictionary."
   ]
  },
  {
   "cell_type": "code",
   "execution_count": 11,
   "metadata": {
    "ExecuteTime": {
     "end_time": "2020-11-12T22:04:59.437485Z",
     "start_time": "2020-11-12T22:04:59.435115Z"
    }
   },
   "outputs": [
    {
     "data": {
      "text/plain": [
       "801"
      ]
     },
     "execution_count": 11,
     "metadata": {},
     "output_type": "execute_result"
    }
   ],
   "source": [
    "# Your code here\n",
    "pokemon_total = len(data_keys)\n",
    "pokemon_total"
   ]
  },
  {
   "cell_type": "markdown",
   "metadata": {},
   "source": [
    "### Simple loop over dictionary\n",
    "\n",
    "Now let's loop over the dictionary and save the top level value (i.e. everything but the key) to a list called `pokedex`.\n",
    "\n",
    "Note: This is just an exercise.  `pokedex` will not be used further."
   ]
  },
  {
   "cell_type": "code",
   "execution_count": 12,
   "metadata": {},
   "outputs": [],
   "source": [
    "pokedex = [v for k,v in data.items()]"
   ]
  },
  {
   "cell_type": "code",
   "execution_count": 13,
   "metadata": {},
   "outputs": [],
   "source": [
    "# Your code here\n",
    "pokedex = []\n",
    "for k,v in data.items():\n",
    "    pokedex.append(v)"
   ]
  },
  {
   "cell_type": "markdown",
   "metadata": {},
   "source": [
    "### Let's create a new dictionary called ```joels_pokemon```. \n",
    "\n",
    "To do this, we will:\n",
    "1. Create an empty dictionary called ```joels_pokemon```\n",
    "2. Loop over the names in the ```joels_pokemon_names``` list\n",
    "3. Use the name to access the pokemon's information in the ```data``` dictionary\n",
    "4. Add the pokemon name to the ```joels_pokemon``` dictionary as a ```key``` and the pokemon's information as the key's ```value```"
   ]
  },
  {
   "cell_type": "code",
   "execution_count": 14,
   "metadata": {},
   "outputs": [],
   "source": [
    "joels_pokemon = {k:v for k,v in data.items() if k in joels_pokemon_names}"
   ]
  },
  {
   "cell_type": "code",
   "execution_count": 15,
   "metadata": {},
   "outputs": [],
   "source": [
    "joels_pokemon = {}\n",
    "for names in joels_pokemon_names:\n",
    "    for k,v in data.items():\n",
    "        if names == k:\n",
    "            joels_pokemon[k] = v"
   ]
  },
  {
   "cell_type": "markdown",
   "metadata": {},
   "source": [
    "Run the cell below to see if you successfully made the joels_pokemon dictionary!"
   ]
  },
  {
   "cell_type": "code",
   "execution_count": 16,
   "metadata": {},
   "outputs": [
    {
     "data": {
      "text/markdown": [
       "# ✅ Your dictionary passed 2 out of 2 tests!\n",
       "\n",
       ">✅ *Dictionary Keys are correct!*\n",
       "\n",
       ">✅ *Dictionary data are correct!*"
      ],
      "text/plain": [
       "<IPython.core.display.Markdown object>"
      ]
     },
     "metadata": {},
     "output_type": "display_data"
    }
   ],
   "source": [
    "from tests import CheckDictionary\n",
    "\n",
    "test = CheckDictionary(joels_pokemon)\n",
    "test.run()"
   ]
  },
  {
   "cell_type": "markdown",
   "metadata": {},
   "source": [
    "# Visualization\n",
    "\n",
    "Let's figure out which pokemon is Joél's strongest pokemon!\n",
    "\n",
    "<u>In the cell below</u> \n",
    "\n",
    "- Create a  bar plot for that shows the attack stat for each of joel's 5 pokemon.\n",
    "- Give the plot the following title: `Joel's pokemon stats`."
   ]
  },
  {
   "cell_type": "code",
   "execution_count": 20,
   "metadata": {},
   "outputs": [
    {
     "data": {
      "image/png": "[encoded data removed]",
      "text/plain": [
       "<Figure size 432x288 with 1 Axes>"
      ]
     },
     "metadata": {
      "needs_background": "light"
     },
     "output_type": "display_data"
    }
   ],
   "source": [
    "from matplotlib import pyplot as plt\n",
    "\n",
    "attacks = [value['stats']['attack'] for k,value in joels_pokemon.items()]\n",
    "colors  = ['orange' if v['stats']['attack'] == max(attacks)  else 'blue' for k,v in joels_pokemon.items()]\n",
    "\n",
    "fig, ax = plt.subplots()\n",
    "ax.bar([name for name in joels_pokemon],[value['stats']['attack'] for k,value in joels_pokemon.items()], color = colors)\n",
    "ax.set_title(\"Joel's pokemon stats\")\n",
    "ax.set_ylabel(\"Attack Strength\")\n",
    "ax.set_xlabel(\"Joel's Pokemon\");"
   ]
  },
  {
   "cell_type": "code",
   "execution_count": 21,
   "metadata": {},
   "outputs": [
    {
     "data": {
      "image/png": "[encoded data removed]",
      "text/plain": [
       "<Figure size 432x288 with 1 Axes>"
      ]
     },
     "metadata": {
      "needs_background": "light"
     },
     "output_type": "display_data"
    }
   ],
   "source": [
    "# Your code here\n",
    "colors = []\n",
    "attacks = [value['stats']['attack'] for k,value in joels_pokemon.items()]\n",
    "for k,value in joels_pokemon.items():\n",
    "    if value['stats']['attack'] == max(attacks):#list(joels_pokemon.values())\n",
    "        colors.append('orange')\n",
    "    else:\n",
    "        colors.append('blue')\n",
    "\n",
    "\n",
    "fig, ax = plt.subplots()\n",
    "ax.bar([name for name in joels_pokemon],[value['stats']['attack'] for k,value in joels_pokemon.items()], color = colors)\n",
    "ax.set_title(\"Joel's pokemon stats\")\n",
    "ax.set_ylabel(\"Attack Strength\")\n",
    "ax.set_xlabel(\"Joel's Pokemon\");"
   ]
  },
  {
   "cell_type": "markdown",
   "metadata": {},
   "source": [
    "**What if we wanted to sort the graph?**\n",
    "\n",
    "There is a couple ways we can do this, but a useful way of doing it would be to sort the dictionary itself!"
   ]
  },
  {
   "cell_type": "code",
   "execution_count": 22,
   "metadata": {},
   "outputs": [
    {
     "data": {
      "image/png": "[encoded data removed]",
      "text/plain": [
       "<Figure size 432x288 with 1 Axes>"
      ]
     },
     "metadata": {
      "needs_background": "light"
     },
     "output_type": "display_data"
    }
   ],
   "source": [
    "sorted_dict = dict(sorted(joels_pokemon.items(), key=lambda item: item[1]['stats']['attack']))\n",
    "\n",
    "attack_stats = [sorted_dict[pokemon]['stats']['attack'] for pokemon in sorted_dict]\n",
    "names = list(sorted_dict)\n",
    "\n",
    "plt.bar(names, attack_stats)\n",
    "plt.title(\"Joél's pokemon stats\");"
   ]
  },
  {
   "cell_type": "markdown",
   "metadata": {},
   "source": [
    "![](https://gamepress.gg/pokemonmasters/sites/pokemonmasters/files/styles/300h/public/2019-08/pm0153_00_bayleaf_256.ktx.png?itok=Tr7OMsm1)"
   ]
  },
  {
   "cell_type": "markdown",
   "metadata": {},
   "source": [
    "**Bayleef** is Joél's strongest pokemon. Let's create a list of all Pokemon that Bayleef is weak against.\n",
    "\n",
    "Our dictionary gives us the *Types* of pokemon Bayleef is weak to. Our dictionary also gives us the type for each pokemon. So first we have to figure out what types of pokemon Bayleef is weak to, then grab every pokemon that has that type.\n",
    "\n",
    "**Ok, here is how we will do it.**\n",
    "\n",
    "*Weakness* is measured with the ```weakness``` key in our data. If the weakness value = 2, that means the pokemon is extremely weak to that type of pokemon. \n",
    "\n",
    "To find all pokemon that Bayleef is weak to, we have to:\n",
    "1. Isolate Bayleef's weakness data from our dictionary\n",
    "2. Identify any type that has a weakness score of 2 and append those types to a list called ```weakness_types```\n",
    "3. Loop over our entire dataset\n",
    "4. Identify pokemon who have a type that match the types in our ```weakness_types``` list.\n",
    "> **Hint** The type of each pokemon can be found using the ```stats``` key\n",
    "5. Append the names of those pokemon to a list called ```bayleef_weakness```\n",
    "\n",
    "-----------------\n",
    "\n",
    "**Let's walk through steps 1 and 2.**\n",
    "\n",
    "You will code steps 3-5!"
   ]
  },
  {
   "cell_type": "markdown",
   "metadata": {},
   "source": [
    "**Step 1:** Isolate Bayleef's weakness data from our dictionary"
   ]
  },
  {
   "cell_type": "code",
   "execution_count": 23,
   "metadata": {},
   "outputs": [],
   "source": [
    "bayleef_weakness_scores = data['Bayleef']['weakness']"
   ]
  },
  {
   "cell_type": "markdown",
   "metadata": {},
   "source": [
    "**Step 2:** Identify any type that has a weakness score of 2 and appending those types to a list called ```weakness_types```\n",
    "\n",
    "\n",
    "We do this by:\n",
    "1. Creating an empty list\n",
    "2. Looping over the keys of our newly made dictionary```bayleef_weakness_score```.\n",
    "    - Each key is a pokemon type\n",
    "3. Checking if the score equals 2\n",
    "4. Appending the key to our empty list if the score equals 2"
   ]
  },
  {
   "cell_type": "code",
   "execution_count": 24,
   "metadata": {},
   "outputs": [
    {
     "data": {
      "text/plain": [
       "['ice', 'poison', 'bug', 'fire', 'flying']"
      ]
     },
     "execution_count": 24,
     "metadata": {},
     "output_type": "execute_result"
    }
   ],
   "source": [
    "weakness_types = []\n",
    "\n",
    "for weakness in bayleef_weakness_scores.keys():\n",
    "    if bayleef_weakness_scores[weakness] == 2:\n",
    "        weakness_types.append(weakness)\n",
    "        \n",
    "weakness_types"
   ]
  },
  {
   "cell_type": "markdown",
   "metadata": {},
   "source": [
    "Bayleef is weak to ice, poison, bug, fire, and flying pokemon. \n",
    "\n",
    "\n",
    "# Now your turn.\n",
    "\n",
    "In the cell below, use the weakness_types list to identify pokemon that have one of those types, and append those pokemon to a list named ```bayleef_weakness```. \n",
    "\n",
    ">**Hint** The code will be very similar to the code for step 2.\n",
    "\n",
    ">**Hint** Make sure your list doesn't contain duplicates of the same pokemon!"
   ]
  },
  {
   "cell_type": "code",
   "execution_count": 25,
   "metadata": {},
   "outputs": [],
   "source": [
    "bayleef_weekness = [k for k,v in data.items() if v['stats']['type1'] in weakness_types or v['stats']['type2'] in weakness_types ]"
   ]
  },
  {
   "cell_type": "code",
   "execution_count": 26,
   "metadata": {},
   "outputs": [],
   "source": [
    "# Your code here\n",
    "#joels_pokemon\n",
    "bayleef_weakness = []\n",
    "for k,v in data.items():\n",
    "    if v['stats']['type1'] in weakness_types or v['stats']['type2'] in weakness_types:\n",
    "            bayleef_weakness.append(k)"
   ]
  },
  {
   "cell_type": "markdown",
   "metadata": {},
   "source": [
    "Run the cell below to test your code! ⬇️"
   ]
  },
  {
   "cell_type": "code",
   "execution_count": 27,
   "metadata": {},
   "outputs": [
    {
     "data": {
      "text/markdown": [
       "# Your list passed 2 out of 2 tests!\n",
       "\n",
       ">✅ *List length is correct!*\n",
       "\n",
       ">✅ *List data are correct*"
      ],
      "text/plain": [
       "<IPython.core.display.Markdown object>"
      ]
     },
     "metadata": {},
     "output_type": "display_data"
    }
   ],
   "source": [
    "from tests import ListCheck\n",
    "test = ListCheck(bayleef_weakness)\n",
    "test.run()"
   ]
  },
  {
   "cell_type": "code",
   "execution_count": null,
   "metadata": {},
   "outputs": [],
   "source": []
  }
 ],
 "metadata": {
  "hide_input": false,
  "kernelspec": {
   "display_name": "Python 3",
   "language": "python",
   "name": "python3"
  },
  "language_info": {
   "codemirror_mode": {
    "name": "ipython",
    "version": 3
   },
   "file_extension": ".py",
   "mimetype": "text/x-python",
   "name": "python",
   "nbconvert_exporter": "python",
   "pygments_lexer": "ipython3",
   "version": "3.8.5"
  },
  "toc": {
   "base_numbering": 1,
   "nav_menu": {},
   "number_sections": false,
   "sideBar": true,
   "skip_h1_title": true,
   "title_cell": "Table of Contents",
   "title_sidebar": "Contents",
   "toc_cell": false,
   "toc_position": {},
   "toc_section_display": true,
   "toc_window_display": false
  },
  "varInspector": {
   "cols": {
    "lenName": 16,
    "lenType": 16,
    "lenVar": 40
   },
   "kernels_config": {
    "python": {
     "delete_cmd_postfix": "",
     "delete_cmd_prefix": "del ",
     "library": "var_list.py",
     "varRefreshCmd": "print(var_dic_list())"
    },
    "r": {
     "delete_cmd_postfix": ") ",
     "delete_cmd_prefix": "rm(",
     "library": "var_list.r",
     "varRefreshCmd": "cat(var_dic_list()) "
    }
   },
   "types_to_exclude": [
    "module",
    "function",
    "builtin_function_or_method",
    "instance",
    "_Feature"
   ],
   "window_display": false
  }
 },
 "nbformat": 4,
 "nbformat_minor": 4
}
